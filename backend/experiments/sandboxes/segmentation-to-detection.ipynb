{
 "cells": [
  {
   "cell_type": "code",
   "execution_count": 1,
   "metadata": {},
   "outputs": [],
   "source": [
    "import os\n",
    "import sys\n",
    "import json\n",
    "import cv2 as cv\n",
    "import matplotlib.pyplot as plt\n",
    "import numpy as np\n",
    "from tqdm.auto import tqdm\n",
    "import pickle\n",
    "\n",
    "parent_dir = os.path.abspath(os.path.join(os.getcwd(), \"..\"))\n",
    "sys.path.append(parent_dir)\n",
    "\n",
    "import src.data.io as io\n",
    "\n",
    "data_path = \"../data/Cricket-Semantic-Segmentation\"\n",
    "annotations_path = f\"{data_path}/annotations\"\n"
   ]
  },
  {
   "cell_type": "code",
   "execution_count": 2,
   "metadata": {},
   "outputs": [],
   "source": [
    "classes = io.readClassesFile(f\"{data_path}/classes/classes.json\", format=\"bgr\")\n",
    "segments = list(filter(lambda name: \"__fuse\" in name, os.listdir(f\"{data_path}/images\")))"
   ]
  },
  {
   "cell_type": "code",
   "execution_count": 3,
   "metadata": {},
   "outputs": [
    {
     "data": {
      "application/vnd.jupyter.widget-view+json": {
       "model_id": "c6cd2076d3f2425faceaa1eed189d4e9",
       "version_major": 2,
       "version_minor": 0
      },
      "text/plain": [
       "  0%|          | 0/298 [00:00<?, ?it/s]"
      ]
     },
     "metadata": {},
     "output_type": "display_data"
    },
    {
     "name": "stdout",
     "output_type": "stream",
     "text": [
      "[[0, 0.6690104166666667, 0.7592592592592593, 0.09635416666666667, 0.3037037037037037], [0, 0.5169270833333334, 0.4134259259259259, 0.06197916666666667, 0.2490740740740741], [1, 0.47552083333333334, 0.6347222222222222, 0.00625, 0.013888888888888888], [2, 0.5104166666666666, 0.9796296296296296, 0.004166666666666667, 0.040740740740740744], [2, 0.51484375, 0.41203703703703703, 0.0036458333333333334, 0.022222222222222223], [2, 0.50703125, 0.4513888888888889, 0.0036458333333333334, 0.10277777777777777], [2, 0.49895833333333334, 0.4513888888888889, 0.004166666666666667, 0.10277777777777777]]\n",
      "0 0.66901 0.759259 0.096354 0.303704\n",
      "0 0.516927 0.413426 0.061979 0.249074\n",
      "1 0.475521 0.634722 0.00625 0.013889\n",
      "2 0.510417 0.97963 0.004167 0.040741\n",
      "2 0.514844 0.412037 0.003646 0.022222\n",
      "2 0.507031 0.451389 0.003646 0.102778\n",
      "2 0.498958 0.451389 0.004167 0.102778\n"
     ]
    }
   ],
   "source": [
    "from src.data.generate import getBoundingBoxesFromSegmentation\n",
    "\n",
    "if not os.path.exists(annotations_path):\n",
    "    os.makedirs(annotations_path)\n",
    "\n",
    "with tqdm(total=len(segments)) as pbar:\n",
    "    for i, seg in enumerate(segments):\n",
    "        img = cv.imread(f\"{data_path}/images/{seg}\")\n",
    "        boxes = getBoundingBoxesFromSegmentation(img, classes)\n",
    "        txt_cntnt = \"\\n\".join(list(map(lambda line: \" \".join(list(map(lambda num: str(np.round(num, 6)), line))), boxes)))\n",
    "        img_f_name = seg[:-11]\n",
    "        txt_f_name = os.path.splitext(img_f_name)[0]+\".txt\"\n",
    "        with open(f\"{annotations_path}/{txt_f_name}\", \"w\") as handler:\n",
    "            handler.write(txt_cntnt)\n",
    "        \n",
    "        pbar.update(1)\n"
   ]
  },
  {
   "cell_type": "code",
   "execution_count": null,
   "metadata": {},
   "outputs": [],
   "source": []
  }
 ],
 "metadata": {
  "kernelspec": {
   "display_name": "Python 3",
   "language": "python",
   "name": "python3"
  },
  "language_info": {
   "codemirror_mode": {
    "name": "ipython",
    "version": 3
   },
   "file_extension": ".py",
   "mimetype": "text/x-python",
   "name": "python",
   "nbconvert_exporter": "python",
   "pygments_lexer": "ipython3",
   "version": "3.10.6"
  },
  "orig_nbformat": 4
 },
 "nbformat": 4,
 "nbformat_minor": 2
}
