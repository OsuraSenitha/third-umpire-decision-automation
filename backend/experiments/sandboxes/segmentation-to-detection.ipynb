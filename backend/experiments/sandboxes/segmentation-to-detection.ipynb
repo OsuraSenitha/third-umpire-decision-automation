{
 "cells": [
  {
   "cell_type": "code",
   "execution_count": 2,
   "metadata": {},
   "outputs": [],
   "source": [
    "import os\n",
    "import sys\n",
    "import json\n",
    "import cv2 as cv\n",
    "import matplotlib.pyplot as plt\n",
    "import numpy as np\n",
    "from tqdm.auto import tqdm\n",
    "import pickle\n",
    "\n",
    "parent_dir = \"/\".join(sys.path[0].split(\"/\")[:-1])\n",
    "sys.path.append(parent_dir)\n",
    "\n",
    "data_path = \"../data/Cricket-Semantic-Segmentation\""
   ]
  },
  {
   "cell_type": "code",
   "execution_count": 4,
   "metadata": {},
   "outputs": [],
   "source": [
    "classes = {}\n",
    "with open(f\"{data_path}/classes/classes.json\") as handler:\n",
    "    classes = json.load(handler)\n",
    "    classes = list(map(lambda obj: {\"name\":obj[\"name\"], \"color\": obj[\"color\"]}, classes))"
   ]
  },
  {
   "cell_type": "code",
   "execution_count": 5,
   "metadata": {},
   "outputs": [],
   "source": [
    "allowed_colors = set(map(lambda cls: cls[\"color\"], classes))\n",
    "segments = list(filter(lambda name: \"__fuse\" in name, os.listdir(f\"{data_path}/images\")))"
   ]
  },
  {
   "cell_type": "code",
   "execution_count": 4,
   "metadata": {},
   "outputs": [],
   "source": [
    "# from src.data.analyze import findColors\n",
    "\n",
    "# with tqdm(total=len(segments)) as pbar:\n",
    "#     for seg in segments:\n",
    "#         img = cv.imread(f\"{data_path}/images/{seg}\")\n",
    "#         available_colors = findColors(img)\n",
    "#         ok = len(allowed_colors-available_colors) == len(allowed_colors)-len(available_colors)\n",
    "#         if not ok:\n",
    "#             print(seg, available_colors)\n",
    "#         pbar.update(1)"
   ]
  },
  {
   "cell_type": "code",
   "execution_count": 64,
   "metadata": {},
   "outputs": [
    {
     "data": {
      "application/vnd.jupyter.widget-view+json": {
       "model_id": "7fd28cf113934edf80c9e9cd3d06db06",
       "version_major": 2,
       "version_minor": 0
      },
      "text/plain": [
       "  0%|          | 0/298 [00:00<?, ?it/s]"
      ]
     },
     "metadata": {},
     "output_type": "display_data"
    }
   ],
   "source": [
    "from src.data.analyze import img2ColorMat\n",
    "from src.data.process import getBoundingBoxesFromSegmentation\n",
    "\n",
    "labels = list(filter(lambda cls: cls[\"name\"] in (\"Wicket\", \"Ball\", \"Batsmen\"), classes))\n",
    "boxes_object = []\n",
    "with tqdm(total=len(segments)) as pbar:\n",
    "    for seg in segments:\n",
    "        img = cv.imread(f\"{data_path}/images/{seg}\")\n",
    "        box_groups = getBoundingBoxesFromSegmentation(img, labels)\n",
    "        boxes_object.append({\"img_name\": seg, \"box_groups\": box_groups})\n",
    "        pbar.update(1)\n",
    "\n",
    "with open(\"objects.pkl\", \"wb\") as handler:\n",
    "    pickle.dump(boxes_object, handler)"
   ]
  },
  {
   "cell_type": "code",
   "execution_count": 7,
   "metadata": {},
   "outputs": [],
   "source": [
    "objects = []\n",
    "with open(\"../data/Cricket-Semantic-Segmentation/objects/objects.pkl\", \"rb\") as handler:\n",
    "    objects = pickle.load(handler)"
   ]
  },
  {
   "cell_type": "code",
   "execution_count": null,
   "metadata": {},
   "outputs": [],
   "source": []
  }
 ],
 "metadata": {
  "kernelspec": {
   "display_name": "Python 3",
   "language": "python",
   "name": "python3"
  },
  "language_info": {
   "codemirror_mode": {
    "name": "ipython",
    "version": 3
   },
   "file_extension": ".py",
   "mimetype": "text/x-python",
   "name": "python",
   "nbconvert_exporter": "python",
   "pygments_lexer": "ipython3",
   "version": "3.10.6"
  },
  "orig_nbformat": 4
 },
 "nbformat": 4,
 "nbformat_minor": 2
}
