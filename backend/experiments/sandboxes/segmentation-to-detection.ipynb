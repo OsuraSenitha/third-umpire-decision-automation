{
 "cells": [
  {
   "cell_type": "code",
   "execution_count": 19,
   "metadata": {},
   "outputs": [],
   "source": [
    "import os\n",
    "import sys\n",
    "import json\n",
    "import cv2 as cv\n",
    "import matplotlib.pyplot as plt\n",
    "import numpy as np\n",
    "from tqdm.auto import tqdm\n",
    "import pickle\n",
    "\n",
    "parent_dir = \"/\".join(sys.path[0].split(\"/\")[:-1])\n",
    "sys.path.append(parent_dir)\n",
    "\n",
    "data_path = \"../data/Cricket-Semantic-Segmentation\"\n",
    "annotations_path = f\"{data_path}/annotations\"\n"
   ]
  },
  {
   "cell_type": "code",
   "execution_count": 2,
   "metadata": {},
   "outputs": [],
   "source": [
    "classes = {}\n",
    "with open(f\"{data_path}/classes/classes.json\") as handler:\n",
    "    classes = json.load(handler)\n",
    "    classes = list(map(lambda obj: {\"name\":obj[\"name\"], \"color\": obj[\"color\"]}, classes))"
   ]
  },
  {
   "cell_type": "code",
   "execution_count": 3,
   "metadata": {},
   "outputs": [],
   "source": [
    "allowed_colors = set(map(lambda cls: cls[\"color\"], classes))\n",
    "segments = list(filter(lambda name: \"__fuse\" in name, os.listdir(f\"{data_path}/images\")))"
   ]
  },
  {
   "cell_type": "code",
   "execution_count": 4,
   "metadata": {},
   "outputs": [],
   "source": [
    "# Validate the data\n",
    "# from src.data.analyze import findColors\n",
    "\n",
    "# with tqdm(total=len(segments)) as pbar:\n",
    "#     for seg in segments:\n",
    "#         img = cv.imread(f\"{data_path}/images/{seg}\")\n",
    "#         available_colors = findColors(img)\n",
    "#         ok = len(allowed_colors-available_colors) == len(allowed_colors)-len(available_colors)\n",
    "#         if not ok:\n",
    "#             print(seg, available_colors)\n",
    "#         pbar.update(1)"
   ]
  },
  {
   "cell_type": "code",
   "execution_count": 26,
   "metadata": {},
   "outputs": [
    {
     "data": {
      "application/vnd.jupyter.widget-view+json": {
       "model_id": "54795d92e3eb4caab6829b3cf1bbac9f",
       "version_major": 2,
       "version_minor": 0
      },
      "text/plain": [
       "  0%|          | 0/298 [00:00<?, ?it/s]"
      ]
     },
     "metadata": {},
     "output_type": "display_data"
    }
   ],
   "source": [
    "from src.data.analyze import img2ColorMat\n",
    "from src.data.process import getBoundingBoxesFromSegmentation\n",
    "\n",
    "if not os.path.exists(annotations_path):\n",
    "    os.makedirs(annotations_path)\n",
    "\n",
    "label_names = [\"Batsmen\", \"Ball\", \"Wicket\"]\n",
    "labels = list(filter(lambda cls: cls[\"name\"] in label_names, classes))\n",
    "with tqdm(total=len(segments)) as pbar:\n",
    "    for i, seg in enumerate(segments):\n",
    "        img = cv.imread(f\"{data_path}/images/{seg}\")\n",
    "        boxes = getBoundingBoxesFromSegmentation(img, labels)\n",
    "        txt_cntnt = \"\\n\".join(list(map(lambda line: \" \".join(list(map(lambda num: str(np.round(num, 6)), line))), boxes)))\n",
    "        img_f_name = seg[:-11]\n",
    "        txt_f_name = os.path.splitext(img_f_name)[0]+\".txt\"\n",
    "        with open(f\"{annotations_path}/{txt_f_name}\", \"w\") as handler:\n",
    "            handler.write(txt_cntnt)\n",
    "        \n",
    "        pbar.update(1)\n"
   ]
  },
  {
   "cell_type": "code",
   "execution_count": 25,
   "metadata": {},
   "outputs": [
    {
     "name": "stdout",
     "output_type": "stream",
     "text": [
      "[{'name': 'Batsmen', 'color': '#b07a53'}, {'name': 'Ball', 'color': '#5e8d38'}, {'name': 'Wicket', 'color': '#1e472a'}]\n"
     ]
    }
   ],
   "source": [
    "print(labels)"
   ]
  },
  {
   "cell_type": "code",
   "execution_count": null,
   "metadata": {},
   "outputs": [],
   "source": []
  }
 ],
 "metadata": {
  "kernelspec": {
   "display_name": "Python 3",
   "language": "python",
   "name": "python3"
  },
  "language_info": {
   "codemirror_mode": {
    "name": "ipython",
    "version": 3
   },
   "file_extension": ".py",
   "mimetype": "text/x-python",
   "name": "python",
   "nbconvert_exporter": "python",
   "pygments_lexer": "ipython3",
   "version": "3.10.6"
  },
  "orig_nbformat": 4
 },
 "nbformat": 4,
 "nbformat_minor": 2
}
