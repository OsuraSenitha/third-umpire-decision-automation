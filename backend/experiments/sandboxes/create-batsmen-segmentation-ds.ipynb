{
  "cells": [
    {
      "cell_type": "code",
      "execution_count": 1,
      "metadata": {
        "id": "nXM3WpFIse9u"
      },
      "outputs": [],
      "source": [
        "# from google.colab import drive\n",
        "# drive.mount(\"/content/drive\")\n",
        "# DRIVE_SRC = \"/content/drive/MyDrive/IIT-Projects/third-umpire-decision-automation/backend/experiments/src\"\n",
        "# !rm -r -f ./sample_data\n",
        "# !cp -r /content/drive/MyDrive/IIT-Projects/third-umpire-decision-automation/.creds/.aws ~/\n",
        "# !cp -r $DRIVE_SRC ./src"
      ]
    },
    {
      "cell_type": "code",
      "execution_count": 2,
      "metadata": {
        "id": "BEHgrBT6syDb"
      },
      "outputs": [],
      "source": [
        "# ! pip install -qq sagemaker"
      ]
    },
    {
      "cell_type": "code",
      "execution_count": 3,
      "metadata": {
        "id": "OsJea1VxMuQ8"
      },
      "outputs": [],
      "source": [
        "# TODO in the augmented dataset\n",
        "# 1. Filter out the small bounding boxes\n",
        "# 2. Split correctly\n",
        "# 3. There are some images without segmentations"
      ]
    },
    {
      "cell_type": "code",
      "execution_count": 4,
      "metadata": {
        "id": "6R6cF2APqtRe"
      },
      "outputs": [],
      "source": [
        "# !rm -r /content/data/cricket-semantic-segmentation"
      ]
    },
    {
      "cell_type": "code",
      "execution_count": 2,
      "metadata": {},
      "outputs": [
        {
          "name": "stdout",
          "output_type": "stream",
          "text": [
            "---- Creating Bounding Boxes ----\n"
          ]
        },
        {
          "data": {
            "application/vnd.jupyter.widget-view+json": {
              "model_id": "f96fbc8652854c5ea21efb688f27fc7e",
              "version_major": 2,
              "version_minor": 0
            },
            "text/plain": [
              "  0%|          | 0/298 [00:00<?, ?it/s]"
            ]
          },
          "metadata": {},
          "output_type": "display_data"
        }
      ],
      "source": [
        "import sys, os\n",
        "parent_dir = os.path.abspath(os.path.join(os.getcwd(), \"..\"))\n",
        "sys.path.append(parent_dir)\n",
        "\n",
        "from typing import Tuple\n",
        "import os, shutil\n",
        "from tqdm.auto import tqdm\n",
        "import cv2 as cv\n",
        "from src.data.generate import kaggleDS2NativeDS\n",
        "import numpy as np\n",
        "\n",
        "kaggleDS2NativeDS(\"../data/Cricket-Semantic-Segmentation\", \"../data/Cricket-Semantic-Segmentation[Native]\")"
      ]
    },
    {
      "cell_type": "code",
      "execution_count": 3,
      "metadata": {
        "colab": {
          "base_uri": "https://localhost:8080/",
          "height": 49,
          "referenced_widgets": [
            "b7a4afe32d9443cba2ea6dd5d2ac7f08",
            "ddd06bdb1a5545c2bae90a68e0f06775",
            "9b273e85277346e780b43e45505e95e0",
            "273ca0205a504225aba0e0f9df5b4509",
            "19462c9e0b0f450399b5e3c5c7defc6a",
            "721915d91b1b422a8681d166e9885abd",
            "fc3849041e954959aec2a681b9b425c4",
            "38f460f45e5b41e3886b511f2a6a31c0",
            "bf6248d6a92f47a4bc672158c757030e",
            "f1ed2aaf6d654571b618b1baac96a130",
            "9d6671cd7628497590eb0fa9e5344281"
          ]
        },
        "id": "ZCSpDsaliPDT",
        "outputId": "1aa13930-28d2-41bc-9f77-80e3f6a419b7"
      },
      "outputs": [],
      "source": [
        "import sys, os\n",
        "parent_dir = os.path.abspath(os.path.join(os.getcwd(), \"..\"))\n",
        "sys.path.append(parent_dir)\n",
        "\n",
        "import os, shutil\n",
        "# from src.data.download import download\n",
        "from src.data.generate import segmentationDS2DetectionDS\n",
        "\n",
        "# # download_dir = download(\"cricket-semantic\")\n",
        "download_dir = \"../data/Cricket-Semantic-Segmentation-batsmens-copy\"\n",
        "# segmentationDS2DetectionDS(download_dir)\n",
        "# seg_dir = f\"{download_dir}/segmentation-images\"\n",
        "# os.makedirs(seg_dir)\n",
        "# src_img_dir = f\"{download_dir}/images\"\n",
        "# src_seg_names = list(filter(lambda nm: \"___fuse\" in nm, os.listdir(src_img_dir)))\n",
        "# for src_seg_name in src_seg_names:\n",
        "#     dst_seg_name = src_seg_name[:-11]\n",
        "#     src_seg_path = f\"{src_img_dir}/{src_seg_name}\"\n",
        "#     dst_seg_path = f\"{seg_dir}/{dst_seg_name}\"\n",
        "#     shutil.move(src_seg_path, dst_seg_path)\n",
        "\n",
        "# imp_fil_names = list(filter(lambda nm: \"___\" in nm, os.listdir(src_img_dir)))\n",
        "# for imp_fil_nm in imp_fil_names:\n",
        "#     imp_fil_path = f\"{src_img_dir}/{imp_fil_nm}\"\n",
        "#     os.remove(imp_fil_path)"
      ]
    },
    {
      "cell_type": "code",
      "execution_count": 5,
      "metadata": {
        "colab": {
          "base_uri": "https://localhost:8080/",
          "height": 49,
          "referenced_widgets": [
            "4f2dc98462c14838aca86072aeba2738",
            "3e1a9fe9c9cc46aba9286311c210e9ff",
            "23996f14e3444bd0af0f6ecf70cb1ee7",
            "6ff70c63b1f64e718bad0c44651348cc",
            "0c6bf9d0f6534a50956bf8f0b7e59926",
            "73ec9606693549679b611a3925dc9510",
            "3599bcf8ccfd451aa9404cc0b298ee54",
            "1c3f7f0ea64042a699cb82e3b7db656b",
            "90194e7af30b45b589d07ad28364b06f",
            "f6684ce434504d53a421a00dbef1cbed",
            "ab18905f550942e6a42001ce66d16f60"
          ]
        },
        "id": "74NVXXtSseFI",
        "outputId": "010d50e4-3c5e-47ea-f2d6-c064a9ac0166"
      },
      "outputs": [
        {
          "name": "stdout",
          "output_type": "stream",
          "text": [
            "---- Generatinig dataset ----\n"
          ]
        },
        {
          "data": {
            "application/vnd.jupyter.widget-view+json": {
              "model_id": "29addabe5bc440d8be52197531b32e9d",
              "version_major": 2,
              "version_minor": 0
            },
            "text/plain": [
              "  0%|          | 0/298 [00:00<?, ?it/s]"
            ]
          },
          "metadata": {},
          "output_type": "display_data"
        }
      ],
      "source": [
        "\n",
        "from src.data.generate import makeDarknetSegmentationDataset\n",
        "from src.data.io import readClassesFile\n",
        "\n",
        "context_classes = [\"Batsmen\", \"Ball\", \"Wicket\", \"Bowler\", \"Wicket Keeper\", \"Umpire\", \"Fielder\"]\n",
        "dataset_classes = [\"Batsmen\"]\n",
        "export_path = \"../data/Batsmen-Semantic-Segmentation\"\n",
        "\n",
        "makeDarknetSegmentationDataset(\n",
        "    download_dir,\n",
        "    context_classes,\n",
        "    dataset_classes,\n",
        "    export_path,\n",
        "    split_weights=[7,2],\n",
        "    ds_name=\"batsmen-semantic-segmentation\"\n",
        ")"
      ]
    },
    {
      "cell_type": "code",
      "execution_count": 7,
      "metadata": {
        "colab": {
          "base_uri": "https://localhost:8080/",
          "height": 452
        },
        "id": "3BBB_zxmR-0p",
        "outputId": "f80c7c21-ef25-4584-ff03-d0b4b4a03c3e"
      },
      "outputs": [
        {
          "data": {
            "text/plain": [
              "<matplotlib.image.AxesImage at 0x7ff9db7ae830>"
            ]
          },
          "execution_count": 7,
          "metadata": {},
          "output_type": "execute_result"
        },
        {
          "data": {
            "image/png": "[encoded data removed]",
            "text/plain": [
              "<Figure size 640x480 with 1 Axes>"
            ]
          },
          "metadata": {},
          "output_type": "display_data"
        }
      ],
      "source": [
        "import cv2 as cv\n",
        "import matplotlib.pyplot as plt\n",
        "from src.data.visualize import drawSegments\n",
        "\n",
        "txt_path = f\"{export_path}/segmentations/000000.txt\"\n",
        "img_path = f\"{export_path}/images/000000.png\"\n",
        "with open(txt_path) as handler:\n",
        "  txt = handler.read()\n",
        "img = cv.imread(img_path)\n",
        "plt.imshow(drawSegments(img, txt))"
      ]
    },
    {
      "cell_type": "code",
      "execution_count": 8,
      "metadata": {
        "id": "Pkwvju7HzB5C"
      },
      "outputs": [],
      "source": [
        "# zip_path = shutil.make_archive(\"batsmen-semantic-segmentation\", \"zip\", splited_path)"
      ]
    },
    {
      "cell_type": "code",
      "execution_count": 9,
      "metadata": {
        "colab": {
          "base_uri": "https://localhost:8080/",
          "height": 35
        },
        "id": "YCDocO3NukhR",
        "outputId": "3048f7f6-2319-46c5-d5fa-6db70d7ce61a"
      },
      "outputs": [],
      "source": [
        "# from sagemaker.s3 import S3Uploader\n",
        "# dst_ds_uri = \"s3://third-umpire-decision-automation-osura/datasets\"\n",
        "# S3Uploader.upload(zip_path, dst_ds_uri)"
      ]
    },
    {
      "cell_type": "markdown",
      "metadata": {
        "id": "DGiawbcA0u74"
      },
      "source": [
        "# Augment data"
      ]
    },
    {
      "cell_type": "code",
      "execution_count": 8,
      "metadata": {
        "colab": {
          "base_uri": "https://localhost:8080/",
          "height": 35
        },
        "id": "E9N7zy1Dy6Hj",
        "outputId": "6f0ae34c-d9d1-4c18-d3c4-afb01764fec4"
      },
      "outputs": [],
      "source": [
        "splited_path = \"../data/Batsmen-Semantic-Segmentation[splitted]\"\n",
        "augment_data_path = \"../data/Batsmen-Semantic-Segmentation[augmented]\""
      ]
    },
    {
      "cell_type": "code",
      "execution_count": 9,
      "metadata": {
        "id": "-agDMl6eybJI"
      },
      "outputs": [],
      "source": [
        "# images that has batsmen in the expected poses\n",
        "emphasis_nums = [2,3,4,5,8,10,14,16,27,30,36,42,43,45,60,64,68,72,79,82,100,102,104,108,115,117,120,121,126,132,140,141,160,164,170,175,181,185,197,199,209,213,216,236,246,264,272,273,296,313,318,324,330,352,368,369,376,379,389,402,404,414]\n",
        "\n",
        "emphasis = list(map(lambda num: str(num).rjust(6, \"0\")+\".png\", emphasis_nums))\n",
        "emphasis_weight = 5\n",
        "augment_rounds = 10\n",
        "original_data_path = splited_path"
      ]
    },
    {
      "cell_type": "code",
      "execution_count": 10,
      "metadata": {
        "id": "ufaV2U5N1CQ3"
      },
      "outputs": [],
      "source": [
        "import sys, os\n",
        "parent_dir = os.path.abspath(os.path.join(os.getcwd(), \"..\"))\n",
        "sys.path.append(parent_dir)\n",
        "\n",
        "import src.data.augment as augment\n",
        "\n",
        "# augment.create_dataset(\n",
        "#     original_data_path,\n",
        "#     augment_data_path,\n",
        "#     emphasis,\n",
        "#     augment_rounds,\n",
        "#     emphasis_weight,\n",
        "#     labels_dir=\"segmentations\",\n",
        "# )"
      ]
    },
    {
      "cell_type": "code",
      "execution_count": null,
      "metadata": {},
      "outputs": [],
      "source": [
        "label_type=\"segment\"\n",
        "dst_img, dst_lbl, crop_data = augment.DSSC(\n",
        "    src_img, seg, label_type=label_type\n",
        ")\n",
        "dst_img, dst_lbl, flipped = augment.horizontal_flip(\n",
        "    dst_img, dst_lbl, label_type=label_type\n",
        ")\n",
        "dst_img = augment.rotate_hue(dst_img, dst_lbl, label_type=label_type)\n",
        "dst_img = augment.brightness_contrast(dst_img)\n",
        "dst_img = augment.blur(dst_img)\n",
        "dst_img = augment.noise(dst_img)\n",
        "\n",
        "dst_lbl = cvtAnnotationsLST2TXT(dst_lbl)"
      ]
    }
  ],
  "metadata": {
    "colab": {
      "provenance": []
    },
    "kernelspec": {
      "display_name": "Python 3",
      "language": "python",
      "name": "python3"
    },
    "language_info": {
      "codemirror_mode": {
        "name": "ipython",
        "version": 3
      },
      "file_extension": ".py",
      "mimetype": "text/x-python",
      "name": "python",
      "nbconvert_exporter": "python",
      "pygments_lexer": "ipython3",
      "version": "3.10.6"
    },
    "orig_nbformat": 4,
    "widgets": {
      "application/vnd.jupyter.widget-state+json": {
        "0c6bf9d0f6534a50956bf8f0b7e59926": {
          "model_module": "@jupyter-widgets/base",
          "model_module_version": "1.2.0",
          "model_name": "LayoutModel",
          "state": {
            "_model_module": "@jupyter-widgets/base",
            "_model_module_version": "1.2.0",
            "_model_name": "LayoutModel",
            "_view_count": null,
            "_view_module": "@jupyter-widgets/base",
            "_view_module_version": "1.2.0",
            "_view_name": "LayoutView",
            "align_content": null,
            "align_items": null,
            "align_self": null,
            "border": null,
            "bottom": null,
            "display": null,
            "flex": null,
            "flex_flow": null,
            "grid_area": null,
            "grid_auto_columns": null,
            "grid_auto_flow": null,
            "grid_auto_rows": null,
            "grid_column": null,
            "grid_gap": null,
            "grid_row": null,
            "grid_template_areas": null,
            "grid_template_columns": null,
            "grid_template_rows": null,
            "height": null,
            "justify_content": null,
            "justify_items": null,
            "left": null,
            "margin": null,
            "max_height": null,
            "max_width": null,
            "min_height": null,
            "min_width": null,
            "object_fit": null,
            "object_position": null,
            "order": null,
            "overflow": null,
            "overflow_x": null,
            "overflow_y": null,
            "padding": null,
            "right": null,
            "top": null,
            "visibility": null,
            "width": null
          }
        },
        "19462c9e0b0f450399b5e3c5c7defc6a": {
          "model_module": "@jupyter-widgets/base",
          "model_module_version": "1.2.0",
          "model_name": "LayoutModel",
          "state": {
            "_model_module": "@jupyter-widgets/base",
            "_model_module_version": "1.2.0",
            "_model_name": "LayoutModel",
            "_view_count": null,
            "_view_module": "@jupyter-widgets/base",
            "_view_module_version": "1.2.0",
            "_view_name": "LayoutView",
            "align_content": null,
            "align_items": null,
            "align_self": null,
            "border": null,
            "bottom": null,
            "display": null,
            "flex": null,
            "flex_flow": null,
            "grid_area": null,
            "grid_auto_columns": null,
            "grid_auto_flow": null,
            "grid_auto_rows": null,
            "grid_column": null,
            "grid_gap": null,
            "grid_row": null,
            "grid_template_areas": null,
            "grid_template_columns": null,
            "grid_template_rows": null,
            "height": null,
            "justify_content": null,
            "justify_items": null,
            "left": null,
            "margin": null,
            "max_height": null,
            "max_width": null,
            "min_height": null,
            "min_width": null,
            "object_fit": null,
            "object_position": null,
            "order": null,
            "overflow": null,
            "overflow_x": null,
            "overflow_y": null,
            "padding": null,
            "right": null,
            "top": null,
            "visibility": null,
            "width": null
          }
        },
        "1c3f7f0ea64042a699cb82e3b7db656b": {
          "model_module": "@jupyter-widgets/base",
          "model_module_version": "1.2.0",
          "model_name": "LayoutModel",
          "state": {
            "_model_module": "@jupyter-widgets/base",
            "_model_module_version": "1.2.0",
            "_model_name": "LayoutModel",
            "_view_count": null,
            "_view_module": "@jupyter-widgets/base",
            "_view_module_version": "1.2.0",
            "_view_name": "LayoutView",
            "align_content": null,
            "align_items": null,
            "align_self": null,
            "border": null,
            "bottom": null,
            "display": null,
            "flex": null,
            "flex_flow": null,
            "grid_area": null,
            "grid_auto_columns": null,
            "grid_auto_flow": null,
            "grid_auto_rows": null,
            "grid_column": null,
            "grid_gap": null,
            "grid_row": null,
            "grid_template_areas": null,
            "grid_template_columns": null,
            "grid_template_rows": null,
            "height": null,
            "justify_content": null,
            "justify_items": null,
            "left": null,
            "margin": null,
            "max_height": null,
            "max_width": null,
            "min_height": null,
            "min_width": null,
            "object_fit": null,
            "object_position": null,
            "order": null,
            "overflow": null,
            "overflow_x": null,
            "overflow_y": null,
            "padding": null,
            "right": null,
            "top": null,
            "visibility": null,
            "width": null
          }
        },
        "23996f14e3444bd0af0f6ecf70cb1ee7": {
          "model_module": "@jupyter-widgets/controls",
          "model_module_version": "1.5.0",
          "model_name": "FloatProgressModel",
          "state": {
            "_dom_classes": [],
            "_model_module": "@jupyter-widgets/controls",
            "_model_module_version": "1.5.0",
            "_model_name": "FloatProgressModel",
            "_view_count": null,
            "_view_module": "@jupyter-widgets/controls",
            "_view_module_version": "1.5.0",
            "_view_name": "ProgressView",
            "bar_style": "success",
            "description": "",
            "description_tooltip": null,
            "layout": "IPY_MODEL_1c3f7f0ea64042a699cb82e3b7db656b",
            "max": 298,
            "min": 0,
            "orientation": "horizontal",
            "style": "IPY_MODEL_90194e7af30b45b589d07ad28364b06f",
            "value": 298
          }
        },
        "273ca0205a504225aba0e0f9df5b4509": {
          "model_module": "@jupyter-widgets/controls",
          "model_module_version": "1.5.0",
          "model_name": "HTMLModel",
          "state": {
            "_dom_classes": [],
            "_model_module": "@jupyter-widgets/controls",
            "_model_module_version": "1.5.0",
            "_model_name": "HTMLModel",
            "_view_count": null,
            "_view_module": "@jupyter-widgets/controls",
            "_view_module_version": "1.5.0",
            "_view_name": "HTMLView",
            "description": "",
            "description_tooltip": null,
            "layout": "IPY_MODEL_f1ed2aaf6d654571b618b1baac96a130",
            "placeholder": "​",
            "style": "IPY_MODEL_9d6671cd7628497590eb0fa9e5344281",
            "value": " 298/298 [00:16&lt;00:00, 23.98it/s]"
          }
        },
        "3599bcf8ccfd451aa9404cc0b298ee54": {
          "model_module": "@jupyter-widgets/controls",
          "model_module_version": "1.5.0",
          "model_name": "DescriptionStyleModel",
          "state": {
            "_model_module": "@jupyter-widgets/controls",
            "_model_module_version": "1.5.0",
            "_model_name": "DescriptionStyleModel",
            "_view_count": null,
            "_view_module": "@jupyter-widgets/base",
            "_view_module_version": "1.2.0",
            "_view_name": "StyleView",
            "description_width": ""
          }
        },
        "38f460f45e5b41e3886b511f2a6a31c0": {
          "model_module": "@jupyter-widgets/base",
          "model_module_version": "1.2.0",
          "model_name": "LayoutModel",
          "state": {
            "_model_module": "@jupyter-widgets/base",
            "_model_module_version": "1.2.0",
            "_model_name": "LayoutModel",
            "_view_count": null,
            "_view_module": "@jupyter-widgets/base",
            "_view_module_version": "1.2.0",
            "_view_name": "LayoutView",
            "align_content": null,
            "align_items": null,
            "align_self": null,
            "border": null,
            "bottom": null,
            "display": null,
            "flex": null,
            "flex_flow": null,
            "grid_area": null,
            "grid_auto_columns": null,
            "grid_auto_flow": null,
            "grid_auto_rows": null,
            "grid_column": null,
            "grid_gap": null,
            "grid_row": null,
            "grid_template_areas": null,
            "grid_template_columns": null,
            "grid_template_rows": null,
            "height": null,
            "justify_content": null,
            "justify_items": null,
            "left": null,
            "margin": null,
            "max_height": null,
            "max_width": null,
            "min_height": null,
            "min_width": null,
            "object_fit": null,
            "object_position": null,
            "order": null,
            "overflow": null,
            "overflow_x": null,
            "overflow_y": null,
            "padding": null,
            "right": null,
            "top": null,
            "visibility": null,
            "width": null
          }
        },
        "3e1a9fe9c9cc46aba9286311c210e9ff": {
          "model_module": "@jupyter-widgets/controls",
          "model_module_version": "1.5.0",
          "model_name": "HTMLModel",
          "state": {
            "_dom_classes": [],
            "_model_module": "@jupyter-widgets/controls",
            "_model_module_version": "1.5.0",
            "_model_name": "HTMLModel",
            "_view_count": null,
            "_view_module": "@jupyter-widgets/controls",
            "_view_module_version": "1.5.0",
            "_view_name": "HTMLView",
            "description": "",
            "description_tooltip": null,
            "layout": "IPY_MODEL_73ec9606693549679b611a3925dc9510",
            "placeholder": "​",
            "style": "IPY_MODEL_3599bcf8ccfd451aa9404cc0b298ee54",
            "value": "100%"
          }
        },
        "4f2dc98462c14838aca86072aeba2738": {
          "model_module": "@jupyter-widgets/controls",
          "model_module_version": "1.5.0",
          "model_name": "HBoxModel",
          "state": {
            "_dom_classes": [],
            "_model_module": "@jupyter-widgets/controls",
            "_model_module_version": "1.5.0",
            "_model_name": "HBoxModel",
            "_view_count": null,
            "_view_module": "@jupyter-widgets/controls",
            "_view_module_version": "1.5.0",
            "_view_name": "HBoxView",
            "box_style": "",
            "children": [
              "IPY_MODEL_3e1a9fe9c9cc46aba9286311c210e9ff",
              "IPY_MODEL_23996f14e3444bd0af0f6ecf70cb1ee7",
              "IPY_MODEL_6ff70c63b1f64e718bad0c44651348cc"
            ],
            "layout": "IPY_MODEL_0c6bf9d0f6534a50956bf8f0b7e59926"
          }
        },
        "6ff70c63b1f64e718bad0c44651348cc": {
          "model_module": "@jupyter-widgets/controls",
          "model_module_version": "1.5.0",
          "model_name": "HTMLModel",
          "state": {
            "_dom_classes": [],
            "_model_module": "@jupyter-widgets/controls",
            "_model_module_version": "1.5.0",
            "_model_name": "HTMLModel",
            "_view_count": null,
            "_view_module": "@jupyter-widgets/controls",
            "_view_module_version": "1.5.0",
            "_view_name": "HTMLView",
            "description": "",
            "description_tooltip": null,
            "layout": "IPY_MODEL_f6684ce434504d53a421a00dbef1cbed",
            "placeholder": "​",
            "style": "IPY_MODEL_ab18905f550942e6a42001ce66d16f60",
            "value": " 298/298 [00:26&lt;00:00, 11.95it/s]"
          }
        },
        "721915d91b1b422a8681d166e9885abd": {
          "model_module": "@jupyter-widgets/base",
          "model_module_version": "1.2.0",
          "model_name": "LayoutModel",
          "state": {
            "_model_module": "@jupyter-widgets/base",
            "_model_module_version": "1.2.0",
            "_model_name": "LayoutModel",
            "_view_count": null,
            "_view_module": "@jupyter-widgets/base",
            "_view_module_version": "1.2.0",
            "_view_name": "LayoutView",
            "align_content": null,
            "align_items": null,
            "align_self": null,
            "border": null,
            "bottom": null,
            "display": null,
            "flex": null,
            "flex_flow": null,
            "grid_area": null,
            "grid_auto_columns": null,
            "grid_auto_flow": null,
            "grid_auto_rows": null,
            "grid_column": null,
            "grid_gap": null,
            "grid_row": null,
            "grid_template_areas": null,
            "grid_template_columns": null,
            "grid_template_rows": null,
            "height": null,
            "justify_content": null,
            "justify_items": null,
            "left": null,
            "margin": null,
            "max_height": null,
            "max_width": null,
            "min_height": null,
            "min_width": null,
            "object_fit": null,
            "object_position": null,
            "order": null,
            "overflow": null,
            "overflow_x": null,
            "overflow_y": null,
            "padding": null,
            "right": null,
            "top": null,
            "visibility": null,
            "width": null
          }
        },
        "73ec9606693549679b611a3925dc9510": {
          "model_module": "@jupyter-widgets/base",
          "model_module_version": "1.2.0",
          "model_name": "LayoutModel",
          "state": {
            "_model_module": "@jupyter-widgets/base",
            "_model_module_version": "1.2.0",
            "_model_name": "LayoutModel",
            "_view_count": null,
            "_view_module": "@jupyter-widgets/base",
            "_view_module_version": "1.2.0",
            "_view_name": "LayoutView",
            "align_content": null,
            "align_items": null,
            "align_self": null,
            "border": null,
            "bottom": null,
            "display": null,
            "flex": null,
            "flex_flow": null,
            "grid_area": null,
            "grid_auto_columns": null,
            "grid_auto_flow": null,
            "grid_auto_rows": null,
            "grid_column": null,
            "grid_gap": null,
            "grid_row": null,
            "grid_template_areas": null,
            "grid_template_columns": null,
            "grid_template_rows": null,
            "height": null,
            "justify_content": null,
            "justify_items": null,
            "left": null,
            "margin": null,
            "max_height": null,
            "max_width": null,
            "min_height": null,
            "min_width": null,
            "object_fit": null,
            "object_position": null,
            "order": null,
            "overflow": null,
            "overflow_x": null,
            "overflow_y": null,
            "padding": null,
            "right": null,
            "top": null,
            "visibility": null,
            "width": null
          }
        },
        "90194e7af30b45b589d07ad28364b06f": {
          "model_module": "@jupyter-widgets/controls",
          "model_module_version": "1.5.0",
          "model_name": "ProgressStyleModel",
          "state": {
            "_model_module": "@jupyter-widgets/controls",
            "_model_module_version": "1.5.0",
            "_model_name": "ProgressStyleModel",
            "_view_count": null,
            "_view_module": "@jupyter-widgets/base",
            "_view_module_version": "1.2.0",
            "_view_name": "StyleView",
            "bar_color": null,
            "description_width": ""
          }
        },
        "9b273e85277346e780b43e45505e95e0": {
          "model_module": "@jupyter-widgets/controls",
          "model_module_version": "1.5.0",
          "model_name": "FloatProgressModel",
          "state": {
            "_dom_classes": [],
            "_model_module": "@jupyter-widgets/controls",
            "_model_module_version": "1.5.0",
            "_model_name": "FloatProgressModel",
            "_view_count": null,
            "_view_module": "@jupyter-widgets/controls",
            "_view_module_version": "1.5.0",
            "_view_name": "ProgressView",
            "bar_style": "success",
            "description": "",
            "description_tooltip": null,
            "layout": "IPY_MODEL_38f460f45e5b41e3886b511f2a6a31c0",
            "max": 298,
            "min": 0,
            "orientation": "horizontal",
            "style": "IPY_MODEL_bf6248d6a92f47a4bc672158c757030e",
            "value": 298
          }
        },
        "9d6671cd7628497590eb0fa9e5344281": {
          "model_module": "@jupyter-widgets/controls",
          "model_module_version": "1.5.0",
          "model_name": "DescriptionStyleModel",
          "state": {
            "_model_module": "@jupyter-widgets/controls",
            "_model_module_version": "1.5.0",
            "_model_name": "DescriptionStyleModel",
            "_view_count": null,
            "_view_module": "@jupyter-widgets/base",
            "_view_module_version": "1.2.0",
            "_view_name": "StyleView",
            "description_width": ""
          }
        },
        "ab18905f550942e6a42001ce66d16f60": {
          "model_module": "@jupyter-widgets/controls",
          "model_module_version": "1.5.0",
          "model_name": "DescriptionStyleModel",
          "state": {
            "_model_module": "@jupyter-widgets/controls",
            "_model_module_version": "1.5.0",
            "_model_name": "DescriptionStyleModel",
            "_view_count": null,
            "_view_module": "@jupyter-widgets/base",
            "_view_module_version": "1.2.0",
            "_view_name": "StyleView",
            "description_width": ""
          }
        },
        "b7a4afe32d9443cba2ea6dd5d2ac7f08": {
          "model_module": "@jupyter-widgets/controls",
          "model_module_version": "1.5.0",
          "model_name": "HBoxModel",
          "state": {
            "_dom_classes": [],
            "_model_module": "@jupyter-widgets/controls",
            "_model_module_version": "1.5.0",
            "_model_name": "HBoxModel",
            "_view_count": null,
            "_view_module": "@jupyter-widgets/controls",
            "_view_module_version": "1.5.0",
            "_view_name": "HBoxView",
            "box_style": "",
            "children": [
              "IPY_MODEL_ddd06bdb1a5545c2bae90a68e0f06775",
              "IPY_MODEL_9b273e85277346e780b43e45505e95e0",
              "IPY_MODEL_273ca0205a504225aba0e0f9df5b4509"
            ],
            "layout": "IPY_MODEL_19462c9e0b0f450399b5e3c5c7defc6a"
          }
        },
        "bf6248d6a92f47a4bc672158c757030e": {
          "model_module": "@jupyter-widgets/controls",
          "model_module_version": "1.5.0",
          "model_name": "ProgressStyleModel",
          "state": {
            "_model_module": "@jupyter-widgets/controls",
            "_model_module_version": "1.5.0",
            "_model_name": "ProgressStyleModel",
            "_view_count": null,
            "_view_module": "@jupyter-widgets/base",
            "_view_module_version": "1.2.0",
            "_view_name": "StyleView",
            "bar_color": null,
            "description_width": ""
          }
        },
        "ddd06bdb1a5545c2bae90a68e0f06775": {
          "model_module": "@jupyter-widgets/controls",
          "model_module_version": "1.5.0",
          "model_name": "HTMLModel",
          "state": {
            "_dom_classes": [],
            "_model_module": "@jupyter-widgets/controls",
            "_model_module_version": "1.5.0",
            "_model_name": "HTMLModel",
            "_view_count": null,
            "_view_module": "@jupyter-widgets/controls",
            "_view_module_version": "1.5.0",
            "_view_name": "HTMLView",
            "description": "",
            "description_tooltip": null,
            "layout": "IPY_MODEL_721915d91b1b422a8681d166e9885abd",
            "placeholder": "​",
            "style": "IPY_MODEL_fc3849041e954959aec2a681b9b425c4",
            "value": "100%"
          }
        },
        "f1ed2aaf6d654571b618b1baac96a130": {
          "model_module": "@jupyter-widgets/base",
          "model_module_version": "1.2.0",
          "model_name": "LayoutModel",
          "state": {
            "_model_module": "@jupyter-widgets/base",
            "_model_module_version": "1.2.0",
            "_model_name": "LayoutModel",
            "_view_count": null,
            "_view_module": "@jupyter-widgets/base",
            "_view_module_version": "1.2.0",
            "_view_name": "LayoutView",
            "align_content": null,
            "align_items": null,
            "align_self": null,
            "border": null,
            "bottom": null,
            "display": null,
            "flex": null,
            "flex_flow": null,
            "grid_area": null,
            "grid_auto_columns": null,
            "grid_auto_flow": null,
            "grid_auto_rows": null,
            "grid_column": null,
            "grid_gap": null,
            "grid_row": null,
            "grid_template_areas": null,
            "grid_template_columns": null,
            "grid_template_rows": null,
            "height": null,
            "justify_content": null,
            "justify_items": null,
            "left": null,
            "margin": null,
            "max_height": null,
            "max_width": null,
            "min_height": null,
            "min_width": null,
            "object_fit": null,
            "object_position": null,
            "order": null,
            "overflow": null,
            "overflow_x": null,
            "overflow_y": null,
            "padding": null,
            "right": null,
            "top": null,
            "visibility": null,
            "width": null
          }
        },
        "f6684ce434504d53a421a00dbef1cbed": {
          "model_module": "@jupyter-widgets/base",
          "model_module_version": "1.2.0",
          "model_name": "LayoutModel",
          "state": {
            "_model_module": "@jupyter-widgets/base",
            "_model_module_version": "1.2.0",
            "_model_name": "LayoutModel",
            "_view_count": null,
            "_view_module": "@jupyter-widgets/base",
            "_view_module_version": "1.2.0",
            "_view_name": "LayoutView",
            "align_content": null,
            "align_items": null,
            "align_self": null,
            "border": null,
            "bottom": null,
            "display": null,
            "flex": null,
            "flex_flow": null,
            "grid_area": null,
            "grid_auto_columns": null,
            "grid_auto_flow": null,
            "grid_auto_rows": null,
            "grid_column": null,
            "grid_gap": null,
            "grid_row": null,
            "grid_template_areas": null,
            "grid_template_columns": null,
            "grid_template_rows": null,
            "height": null,
            "justify_content": null,
            "justify_items": null,
            "left": null,
            "margin": null,
            "max_height": null,
            "max_width": null,
            "min_height": null,
            "min_width": null,
            "object_fit": null,
            "object_position": null,
            "order": null,
            "overflow": null,
            "overflow_x": null,
            "overflow_y": null,
            "padding": null,
            "right": null,
            "top": null,
            "visibility": null,
            "width": null
          }
        },
        "fc3849041e954959aec2a681b9b425c4": {
          "model_module": "@jupyter-widgets/controls",
          "model_module_version": "1.5.0",
          "model_name": "DescriptionStyleModel",
          "state": {
            "_model_module": "@jupyter-widgets/controls",
            "_model_module_version": "1.5.0",
            "_model_name": "DescriptionStyleModel",
            "_view_count": null,
            "_view_module": "@jupyter-widgets/base",
            "_view_module_version": "1.2.0",
            "_view_name": "StyleView",
            "description_width": ""
          }
        }
      }
    }
  },
  "nbformat": 4,
  "nbformat_minor": 0
}
