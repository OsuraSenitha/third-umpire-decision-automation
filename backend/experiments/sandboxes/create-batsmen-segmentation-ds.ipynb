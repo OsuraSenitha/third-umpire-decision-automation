{
  "cells": [
    {
      "cell_type": "code",
      "execution_count": 1,
      "metadata": {
        "id": "nXM3WpFIse9u"
      },
      "outputs": [],
      "source": [
        "# from google.colab import drive\n",
        "# drive.mount(\"/content/drive\")\n",
        "# DRIVE_SRC = \"/content/drive/MyDrive/IIT-Projects/third-umpire-decision-automation/backend/experiments/src\"\n",
        "# !rm -r -f ./sample_data\n",
        "# !cp -r /content/drive/MyDrive/IIT-Projects/third-umpire-decision-automation/.creds/.aws ~/\n",
        "# !cp -r $DRIVE_SRC ./src"
      ]
    },
    {
      "cell_type": "code",
      "execution_count": 2,
      "metadata": {
        "id": "BEHgrBT6syDb"
      },
      "outputs": [],
      "source": [
        "# ! pip install -qq sagemaker"
      ]
    },
    {
      "cell_type": "code",
      "execution_count": 3,
      "metadata": {
        "id": "OsJea1VxMuQ8"
      },
      "outputs": [],
      "source": [
        "# TODO in the augmented dataset\n",
        "# 1. Filter out the small bounding boxes\n",
        "# 2. Split correctly\n",
        "# 3. There are some images without segmentations"
      ]
    },
    {
      "cell_type": "code",
      "execution_count": 4,
      "metadata": {
        "id": "6R6cF2APqtRe"
      },
      "outputs": [],
      "source": [
        "# !rm -r /content/data/Batsmen-Segmentation-Augmented"
      ]
    },
    {
      "cell_type": "code",
      "execution_count": null,
      "metadata": {
        "colab": {
          "base_uri": "https://localhost:8080/",
          "height": 1000,
          "referenced_widgets": [
            "47d2aed3f61b465daa85a486a3f76c69",
            "592efe81adda4c4c81cc1840ac7f7c0f",
            "63aaffc23fde493cae876da881b4384b",
            "89ce829fc000411aac82d24aec79c840",
            "07c0adc9895e4f7ab5b0c3558310caa7",
            "63751209be1b4ff0820c18bd9015627a",
            "2f60c8b939a4446cab7e695ab21f7f9e",
            "cd64b3d6ff2548dabfaae86d63beb8d4",
            "5591ea7669eb4dd5bf795fc5b4d15432",
            "3060601e3ccd40308e93c1e74aa6e28b",
            "fbfae111528748faa1ca7ad355e0e780"
          ]
        },
        "id": "ZCSpDsaliPDT",
        "outputId": "15945654-6b2a-492b-c2c3-541b2dfcc7e6"
      },
      "outputs": [],
      "source": [
        "import os, shutil\n",
        "from src.data.download import download\n",
        "from src.data.generate import segmentationDS2DetectionDS\n",
        "\n",
        "# download_dir = download(\"cricket-semantic\")\n",
        "download_dir = \"./data/cricket-semantic-segmentation\"\n",
        "segmentationDS2DetectionDS(download_dir)\n",
        "# seg_dir = f\"{download_dir}/segmentations\"\n",
        "# os.makedirs(seg_dir)\n",
        "# src_img_dir = f\"{download_dir}/images\"\n",
        "# src_seg_names = list(filter(lambda nm: \"___fuse\" in nm, os.listdir(src_img_dir)))\n",
        "# for src_seg_name in src_seg_names:\n",
        "#     dst_seg_name = src_seg_name[:-11]\n",
        "#     src_seg_path = f\"{src_img_dir}/{src_seg_name}\"\n",
        "#     dst_seg_path = f\"{seg_dir}/{dst_seg_name}\"\n",
        "#     shutil.move(src_seg_path, dst_seg_path)\n",
        "\n",
        "# imp_fil_names = list(filter(lambda nm: \"___\" in nm, os.listdir(src_img_dir)))\n",
        "# for imp_fil_nm in imp_fil_names:\n",
        "#     imp_fil_path = f\"{src_img_dir}/{imp_fil_nm}\"\n",
        "#     os.remove(imp_fil_path)"
      ]
    },
    {
      "cell_type": "code",
      "execution_count": null,
      "metadata": {
        "id": "8X6w3E9Iqylc"
      },
      "outputs": [],
      "source": [
        "raise Exception"
      ]
    },
    {
      "cell_type": "code",
      "execution_count": null,
      "metadata": {
        "id": "74NVXXtSseFI"
      },
      "outputs": [],
      "source": [
        "from src.data.generate import makeDarknetSegmentationDataset\n",
        "from src.data.io import readClassesFile\n",
        "\n",
        "src_images_root = f\"{download_dir}/images\"\n",
        "src_segments_root = f\"{download_dir}/segmentations\"\n",
        "src_bboxes_root = f\"{download_dir}/bboxes\"\n",
        "classes_path = f\"{download_dir}/classes/classes.json\"\n",
        "\n",
        "src_class_names = [\"Batsmen\", \"Ball\", \"Wicket\"]\n",
        "dst_class_names = [\"Batsmen\"]\n",
        "export_path = \"./data/Batsmen-Segmentation-Augmented\"\n",
        "classes = readClassesFile(classes_path)\n",
        "\n",
        "makeDarknetSegmentationDataset(\n",
        "    src_images_root,\n",
        "    src_segments_root,\n",
        "    src_bboxes_root,\n",
        "    src_class_names,\n",
        "    dst_class_names,\n",
        "    classes,\n",
        "    export_path\n",
        ")"
      ]
    },
    {
      "cell_type": "code",
      "execution_count": null,
      "metadata": {
        "id": "EV0BSTgopYbK"
      },
      "outputs": [],
      "source": [
        "!ls /content/data/Batsmen-Segmentation-Augmented/images/"
      ]
    },
    {
      "cell_type": "code",
      "execution_count": null,
      "metadata": {
        "id": "3BBB_zxmR-0p"
      },
      "outputs": [],
      "source": [
        "import cv2 as cv\n",
        "import matplotlib.pyplot as plt\n",
        "from src.data.visualize import drawSegments\n",
        "\n",
        "txt_path = \"/content/data/Batsmen-Segmentation-Augmented/segmentations/000000.txt\"\n",
        "img_path = \"/content/data/Batsmen-Segmentation-Augmented/images/000000.png\"\n",
        "with open(txt_path) as handler:\n",
        "  txt = handler.read()\n",
        "img = cv.imread(img_path)\n",
        "plt.imshow(drawSegments(img, txt))"
      ]
    },
    {
      "cell_type": "code",
      "execution_count": null,
      "metadata": {
        "id": "NsmbL1ZZRzO4"
      },
      "outputs": [],
      "source": [
        "!ls $export_path"
      ]
    },
    {
      "cell_type": "code",
      "execution_count": null,
      "metadata": {
        "id": "YCDocO3NukhR"
      },
      "outputs": [],
      "source": [
        "from sagemaker.s3 import S3Uploader\n",
        "src_dir = export_path\n",
        "dst_ds_uri = \"s3://third-umpire-decision-automation-osura/datasets/batsmen-segmentation\"\n",
        "# S3Uploader.upload(src_dir, dst_ds_uri)"
      ]
    },
    {
      "cell_type": "code",
      "execution_count": null,
      "metadata": {
        "id": "8Cd_wdcGseFI"
      },
      "outputs": [],
      "source": [
        "cropped_img_path = \"./data/Batsmen-Segmentation-Augmented[Splitted]/images/train/000000.png\"\n",
        "cropped_lbl_path = \"./data/Batsmen-Segmentation-Augmented[Splitted]/segmentations/train/000000.txt\"\n",
        "crp_img = cv.imread(cropped_img_path)\n",
        "txt_cntnt = \"\"\n",
        "with open(cropped_lbl_path) as handler:\n",
        "    txt_cntnt = handler.read()\n",
        "drawn_img = drawSegments(crp_img, txt_cntnt)\n",
        "plt.imshow(drawn_img)\n",
        "plt.show()"
      ]
    },
    {
      "cell_type": "code",
      "execution_count": null,
      "metadata": {
        "id": "HbZe50xtseFJ"
      },
      "outputs": [],
      "source": []
    }
  ],
  "metadata": {
    "colab": {
      "provenance": []
    },
    "kernelspec": {
      "display_name": "Python 3",
      "language": "python",
      "name": "python3"
    },
    "language_info": {
      "codemirror_mode": {
        "name": "ipython",
        "version": 3
      },
      "file_extension": ".py",
      "mimetype": "text/x-python",
      "name": "python",
      "nbconvert_exporter": "python",
      "pygments_lexer": "ipython3",
      "version": "3.10.6"
    },
    "orig_nbformat": 4,
    "widgets": {
      "application/vnd.jupyter.widget-state+json": {
        "07c0adc9895e4f7ab5b0c3558310caa7": {
          "model_module": "@jupyter-widgets/base",
          "model_module_version": "1.2.0",
          "model_name": "LayoutModel",
          "state": {
            "_model_module": "@jupyter-widgets/base",
            "_model_module_version": "1.2.0",
            "_model_name": "LayoutModel",
            "_view_count": null,
            "_view_module": "@jupyter-widgets/base",
            "_view_module_version": "1.2.0",
            "_view_name": "LayoutView",
            "align_content": null,
            "align_items": null,
            "align_self": null,
            "border": null,
            "bottom": null,
            "display": null,
            "flex": null,
            "flex_flow": null,
            "grid_area": null,
            "grid_auto_columns": null,
            "grid_auto_flow": null,
            "grid_auto_rows": null,
            "grid_column": null,
            "grid_gap": null,
            "grid_row": null,
            "grid_template_areas": null,
            "grid_template_columns": null,
            "grid_template_rows": null,
            "height": null,
            "justify_content": null,
            "justify_items": null,
            "left": null,
            "margin": null,
            "max_height": null,
            "max_width": null,
            "min_height": null,
            "min_width": null,
            "object_fit": null,
            "object_position": null,
            "order": null,
            "overflow": null,
            "overflow_x": null,
            "overflow_y": null,
            "padding": null,
            "right": null,
            "top": null,
            "visibility": null,
            "width": null
          }
        },
        "2f60c8b939a4446cab7e695ab21f7f9e": {
          "model_module": "@jupyter-widgets/controls",
          "model_module_version": "1.5.0",
          "model_name": "DescriptionStyleModel",
          "state": {
            "_model_module": "@jupyter-widgets/controls",
            "_model_module_version": "1.5.0",
            "_model_name": "DescriptionStyleModel",
            "_view_count": null,
            "_view_module": "@jupyter-widgets/base",
            "_view_module_version": "1.2.0",
            "_view_name": "StyleView",
            "description_width": ""
          }
        },
        "3060601e3ccd40308e93c1e74aa6e28b": {
          "model_module": "@jupyter-widgets/base",
          "model_module_version": "1.2.0",
          "model_name": "LayoutModel",
          "state": {
            "_model_module": "@jupyter-widgets/base",
            "_model_module_version": "1.2.0",
            "_model_name": "LayoutModel",
            "_view_count": null,
            "_view_module": "@jupyter-widgets/base",
            "_view_module_version": "1.2.0",
            "_view_name": "LayoutView",
            "align_content": null,
            "align_items": null,
            "align_self": null,
            "border": null,
            "bottom": null,
            "display": null,
            "flex": null,
            "flex_flow": null,
            "grid_area": null,
            "grid_auto_columns": null,
            "grid_auto_flow": null,
            "grid_auto_rows": null,
            "grid_column": null,
            "grid_gap": null,
            "grid_row": null,
            "grid_template_areas": null,
            "grid_template_columns": null,
            "grid_template_rows": null,
            "height": null,
            "justify_content": null,
            "justify_items": null,
            "left": null,
            "margin": null,
            "max_height": null,
            "max_width": null,
            "min_height": null,
            "min_width": null,
            "object_fit": null,
            "object_position": null,
            "order": null,
            "overflow": null,
            "overflow_x": null,
            "overflow_y": null,
            "padding": null,
            "right": null,
            "top": null,
            "visibility": null,
            "width": null
          }
        },
        "47d2aed3f61b465daa85a486a3f76c69": {
          "model_module": "@jupyter-widgets/controls",
          "model_module_version": "1.5.0",
          "model_name": "HBoxModel",
          "state": {
            "_dom_classes": [],
            "_model_module": "@jupyter-widgets/controls",
            "_model_module_version": "1.5.0",
            "_model_name": "HBoxModel",
            "_view_count": null,
            "_view_module": "@jupyter-widgets/controls",
            "_view_module_version": "1.5.0",
            "_view_name": "HBoxView",
            "box_style": "",
            "children": [
              "IPY_MODEL_592efe81adda4c4c81cc1840ac7f7c0f",
              "IPY_MODEL_63aaffc23fde493cae876da881b4384b",
              "IPY_MODEL_89ce829fc000411aac82d24aec79c840"
            ],
            "layout": "IPY_MODEL_07c0adc9895e4f7ab5b0c3558310caa7"
          }
        },
        "5591ea7669eb4dd5bf795fc5b4d15432": {
          "model_module": "@jupyter-widgets/controls",
          "model_module_version": "1.5.0",
          "model_name": "ProgressStyleModel",
          "state": {
            "_model_module": "@jupyter-widgets/controls",
            "_model_module_version": "1.5.0",
            "_model_name": "ProgressStyleModel",
            "_view_count": null,
            "_view_module": "@jupyter-widgets/base",
            "_view_module_version": "1.2.0",
            "_view_name": "StyleView",
            "bar_color": null,
            "description_width": ""
          }
        },
        "592efe81adda4c4c81cc1840ac7f7c0f": {
          "model_module": "@jupyter-widgets/controls",
          "model_module_version": "1.5.0",
          "model_name": "HTMLModel",
          "state": {
            "_dom_classes": [],
            "_model_module": "@jupyter-widgets/controls",
            "_model_module_version": "1.5.0",
            "_model_name": "HTMLModel",
            "_view_count": null,
            "_view_module": "@jupyter-widgets/controls",
            "_view_module_version": "1.5.0",
            "_view_name": "HTMLView",
            "description": "",
            "description_tooltip": null,
            "layout": "IPY_MODEL_63751209be1b4ff0820c18bd9015627a",
            "placeholder": "​",
            "style": "IPY_MODEL_2f60c8b939a4446cab7e695ab21f7f9e",
            "value": " 24%"
          }
        },
        "63751209be1b4ff0820c18bd9015627a": {
          "model_module": "@jupyter-widgets/base",
          "model_module_version": "1.2.0",
          "model_name": "LayoutModel",
          "state": {
            "_model_module": "@jupyter-widgets/base",
            "_model_module_version": "1.2.0",
            "_model_name": "LayoutModel",
            "_view_count": null,
            "_view_module": "@jupyter-widgets/base",
            "_view_module_version": "1.2.0",
            "_view_name": "LayoutView",
            "align_content": null,
            "align_items": null,
            "align_self": null,
            "border": null,
            "bottom": null,
            "display": null,
            "flex": null,
            "flex_flow": null,
            "grid_area": null,
            "grid_auto_columns": null,
            "grid_auto_flow": null,
            "grid_auto_rows": null,
            "grid_column": null,
            "grid_gap": null,
            "grid_row": null,
            "grid_template_areas": null,
            "grid_template_columns": null,
            "grid_template_rows": null,
            "height": null,
            "justify_content": null,
            "justify_items": null,
            "left": null,
            "margin": null,
            "max_height": null,
            "max_width": null,
            "min_height": null,
            "min_width": null,
            "object_fit": null,
            "object_position": null,
            "order": null,
            "overflow": null,
            "overflow_x": null,
            "overflow_y": null,
            "padding": null,
            "right": null,
            "top": null,
            "visibility": null,
            "width": null
          }
        },
        "63aaffc23fde493cae876da881b4384b": {
          "model_module": "@jupyter-widgets/controls",
          "model_module_version": "1.5.0",
          "model_name": "FloatProgressModel",
          "state": {
            "_dom_classes": [],
            "_model_module": "@jupyter-widgets/controls",
            "_model_module_version": "1.5.0",
            "_model_name": "FloatProgressModel",
            "_view_count": null,
            "_view_module": "@jupyter-widgets/controls",
            "_view_module_version": "1.5.0",
            "_view_name": "ProgressView",
            "bar_style": "danger",
            "description": "",
            "description_tooltip": null,
            "layout": "IPY_MODEL_cd64b3d6ff2548dabfaae86d63beb8d4",
            "max": 298,
            "min": 0,
            "orientation": "horizontal",
            "style": "IPY_MODEL_5591ea7669eb4dd5bf795fc5b4d15432",
            "value": 71
          }
        },
        "89ce829fc000411aac82d24aec79c840": {
          "model_module": "@jupyter-widgets/controls",
          "model_module_version": "1.5.0",
          "model_name": "HTMLModel",
          "state": {
            "_dom_classes": [],
            "_model_module": "@jupyter-widgets/controls",
            "_model_module_version": "1.5.0",
            "_model_name": "HTMLModel",
            "_view_count": null,
            "_view_module": "@jupyter-widgets/controls",
            "_view_module_version": "1.5.0",
            "_view_name": "HTMLView",
            "description": "",
            "description_tooltip": null,
            "layout": "IPY_MODEL_3060601e3ccd40308e93c1e74aa6e28b",
            "placeholder": "​",
            "style": "IPY_MODEL_fbfae111528748faa1ca7ad355e0e780",
            "value": " 71/298 [00:05&lt;00:15, 14.83it/s]"
          }
        },
        "cd64b3d6ff2548dabfaae86d63beb8d4": {
          "model_module": "@jupyter-widgets/base",
          "model_module_version": "1.2.0",
          "model_name": "LayoutModel",
          "state": {
            "_model_module": "@jupyter-widgets/base",
            "_model_module_version": "1.2.0",
            "_model_name": "LayoutModel",
            "_view_count": null,
            "_view_module": "@jupyter-widgets/base",
            "_view_module_version": "1.2.0",
            "_view_name": "LayoutView",
            "align_content": null,
            "align_items": null,
            "align_self": null,
            "border": null,
            "bottom": null,
            "display": null,
            "flex": null,
            "flex_flow": null,
            "grid_area": null,
            "grid_auto_columns": null,
            "grid_auto_flow": null,
            "grid_auto_rows": null,
            "grid_column": null,
            "grid_gap": null,
            "grid_row": null,
            "grid_template_areas": null,
            "grid_template_columns": null,
            "grid_template_rows": null,
            "height": null,
            "justify_content": null,
            "justify_items": null,
            "left": null,
            "margin": null,
            "max_height": null,
            "max_width": null,
            "min_height": null,
            "min_width": null,
            "object_fit": null,
            "object_position": null,
            "order": null,
            "overflow": null,
            "overflow_x": null,
            "overflow_y": null,
            "padding": null,
            "right": null,
            "top": null,
            "visibility": null,
            "width": null
          }
        },
        "fbfae111528748faa1ca7ad355e0e780": {
          "model_module": "@jupyter-widgets/controls",
          "model_module_version": "1.5.0",
          "model_name": "DescriptionStyleModel",
          "state": {
            "_model_module": "@jupyter-widgets/controls",
            "_model_module_version": "1.5.0",
            "_model_name": "DescriptionStyleModel",
            "_view_count": null,
            "_view_module": "@jupyter-widgets/base",
            "_view_module_version": "1.2.0",
            "_view_name": "StyleView",
            "description_width": ""
          }
        }
      }
    }
  },
  "nbformat": 4,
  "nbformat_minor": 0
}
