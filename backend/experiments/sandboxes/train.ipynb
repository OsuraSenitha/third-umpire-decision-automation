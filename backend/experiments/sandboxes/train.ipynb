{
  "cells": [
    {
      "cell_type": "code",
      "execution_count": 13,
      "metadata": {
        "id": "AbPur0tD8Hcm"
      },
      "outputs": [],
      "source": [
        "# from google.colab import drive\n",
        "# drive.mount(\"/content/drive\")\n",
        "# DRIVE_SRC = \"/content/drive/MyDrive/IIT-Projects/third-umpire-decision-automation/backend/experiments/src\"\n",
        "# !rm -r -f ./sample_data\n",
        "# !cp -r /content/drive/MyDrive/IIT-Projects/third-umpire-decision-automation/.creds/.aws ~/\n",
        "# !cp -r $DRIVE_SRC ./src"
      ]
    },
    {
      "cell_type": "code",
      "execution_count": 14,
      "metadata": {
        "id": "IPAO1h38K436"
      },
      "outputs": [],
      "source": [
        "! pip install -qq sagemaker ultralytics"
      ]
    },
    {
      "cell_type": "code",
      "source": [
        "project_name = \"/content/drive/MyDrive/IIT-Projects/third-umpire-decision-automation/backend/training-jobs\""
      ],
      "metadata": {
        "id": "qAhCH-d5MTt3"
      },
      "execution_count": 15,
      "outputs": []
    },
    {
      "cell_type": "markdown",
      "metadata": {
        "id": "0uNMVwkx5_Y5"
      },
      "source": [
        "# Detect"
      ]
    },
    {
      "cell_type": "code",
      "source": [
        "# experiment_name = \"cricket-object-detect\""
      ],
      "metadata": {
        "id": "g2L7R4lMNNPK"
      },
      "execution_count": 16,
      "outputs": []
    },
    {
      "cell_type": "code",
      "execution_count": 17,
      "metadata": {
        "id": "E_H8R0h78EBo"
      },
      "outputs": [],
      "source": [
        "# from src.data.download import download\n",
        "# config_path = download(experiment_name)"
      ]
    },
    {
      "cell_type": "code",
      "execution_count": 18,
      "metadata": {
        "id": "0DRYrtm58EBp"
      },
      "outputs": [],
      "source": [
        "# from ultralytics import YOLO\n",
        "# model = YOLO('yolov8n.pt')\n",
        "\n",
        "# patience = 10\n",
        "# epochs = 200\n",
        "# model.train(data=config_path, epochs=epochs, patience=patience, project_name=project_name, experiment_name=experiment_name)"
      ]
    },
    {
      "cell_type": "markdown",
      "metadata": {
        "id": "JXswL4uY5_Y7"
      },
      "source": [
        "# Segment"
      ]
    },
    {
      "cell_type": "code",
      "source": [
        "# experiment_name = \"batsmen-segmentation\""
      ],
      "metadata": {
        "id": "weVy8KkqNSyU"
      },
      "execution_count": 19,
      "outputs": []
    },
    {
      "cell_type": "code",
      "source": [
        "# from src.data.download import download\n",
        "# ds_config_path = download(experiment_name)"
      ],
      "metadata": {
        "id": "GD_m0XCTC-Wd"
      },
      "execution_count": 20,
      "outputs": []
    },
    {
      "cell_type": "code",
      "execution_count": 21,
      "metadata": {
        "id": "1JkrBcrA8EBq"
      },
      "outputs": [],
      "source": [
        "# from ultralytics import YOLO\n",
        "# model = YOLO('yolov8n-seg.pt')\n",
        "\n",
        "# patience = 10\n",
        "# epochs = 200\n",
        "\n",
        "# model.train(data=ds_config_path, epochs=epochs, patience=patience, pretrained=True, project=project_name, name=experiment_name)"
      ]
    },
    {
      "cell_type": "code",
      "source": [],
      "metadata": {
        "id": "3WUvQjQwLljt"
      },
      "execution_count": 21,
      "outputs": []
    }
  ],
  "metadata": {
    "colab": {
      "provenance": []
    },
    "gpuClass": "standard",
    "kernelspec": {
      "display_name": "Python 3",
      "language": "python",
      "name": "python3"
    },
    "language_info": {
      "codemirror_mode": {
        "name": "ipython",
        "version": 3
      },
      "file_extension": ".py",
      "mimetype": "text/x-python",
      "name": "python",
      "nbconvert_exporter": "python",
      "pygments_lexer": "ipython3",
      "version": "3.10.6"
    },
    "orig_nbformat": 4
  },
  "nbformat": 4,
  "nbformat_minor": 0
}