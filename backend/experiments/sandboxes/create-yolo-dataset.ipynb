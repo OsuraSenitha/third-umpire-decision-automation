{
 "cells": [
  {
   "cell_type": "code",
   "execution_count": 1,
   "metadata": {},
   "outputs": [],
   "source": [
    "import os\n",
    "import sys\n",
    "\n",
    "parent_dir = \"/\".join(sys.path[0].split(\"/\")[:-1])\n",
    "sys.path.append(parent_dir)\n",
    "\n",
    "from src.data.process import splitForObjectDetect"
   ]
  },
  {
   "cell_type": "code",
   "execution_count": 2,
   "metadata": {},
   "outputs": [],
   "source": [
    "data_path = \"../data/Cricket-Semantic-Segmentation\"\n",
    "must_contain = [\"classes\", \"images\", \"annotations\"]\n",
    "label_names = [\"Batsmen\", \"Ball\", \"Wicket\"]\n",
    "for dir in os.listdir(data_path):\n",
    "    if dir in must_contain:\n",
    "        idx = must_contain.index(dir)\n",
    "        must_contain.pop(idx)\n",
    "assert len(must_contain) == 0"
   ]
  },
  {
   "cell_type": "code",
   "execution_count": 3,
   "metadata": {},
   "outputs": [],
   "source": [
    "object_detect_dataset_path = f\"{data_path}/object-detect\"\n",
    "train_weight, val_weight = 7, 2\n",
    "\n",
    "splitForObjectDetect(object_detect_dataset_path, data_path, train_weight, val_weight)"
   ]
  },
  {
   "cell_type": "code",
   "execution_count": null,
   "metadata": {},
   "outputs": [],
   "source": []
  }
 ],
 "metadata": {
  "kernelspec": {
   "display_name": "Python 3",
   "language": "python",
   "name": "python3"
  },
  "language_info": {
   "codemirror_mode": {
    "name": "ipython",
    "version": 3
   },
   "file_extension": ".py",
   "mimetype": "text/x-python",
   "name": "python",
   "nbconvert_exporter": "python",
   "pygments_lexer": "ipython3",
   "version": "3.10.6"
  },
  "orig_nbformat": 4
 },
 "nbformat": 4,
 "nbformat_minor": 2
}
